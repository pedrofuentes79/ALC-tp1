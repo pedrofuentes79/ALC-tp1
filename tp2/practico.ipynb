{
 "cells": [
  {
   "cell_type": "markdown",
   "id": "7edf6eed",
   "metadata": {},
   "source": [
    "## Ejercicio 3. \n",
    "\n",
    "Nos piden aplicar las funciones para:\n",
    "\n",
    "***[1]***: Calcular el autovector asociado al autovalor más chico de la matríz L.\n",
    "\n",
    "***[2]***: Calcular el autovector asociado al autovalor más grande de R.\n",
    "\n",
    "Además, interpretar los valores que nos dan en términos del grafo.\n",
    "\n",
    "También nos piden calcular los vectores ***s*** asociados a estos autovectores y comparar con la particion esperada con el grafo de ejemplo.\n"
   ]
  },
  {
   "cell_type": "code",
   "execution_count": 1,
   "id": "1c9e5d72",
   "metadata": {},
   "outputs": [],
   "source": [
    "import numpy as np\n",
    "from linalg import *"
   ]
  },
  {
   "cell_type": "code",
   "execution_count": 2,
   "id": "eaaaf92e",
   "metadata": {},
   "outputs": [],
   "source": [
    "# Grafo de ejemplo\n",
    "A_sample = np.array([\n",
    "    [0, 1, 1, 1, 0, 0, 0, 0],\n",
    "    [1, 0, 1, 1, 0, 0, 0, 0],\n",
    "    [1, 1, 0, 1, 0, 0, 0, 0],\n",
    "    [1, 1, 1, 0, 0, 0, 0, 0],\n",
    "    [0, 0, 0, 0, 0, 1, 1, 1],\n",
    "    [0, 0, 0, 0, 1, 0, 1, 1],\n",
    "    [0, 0, 0, 0, 1, 1, 0, 1],\n",
    "    [0, 0, 0, 0, 1, 1, 1, 0]\n",
    "])\n",
    "\n",
    "# Función para obtener el vector s\n",
    "comunidades = lambda autovector: [1 if x > 0 else -1 for x in autovector] "
   ]
  },
  {
   "cell_type": "markdown",
   "id": "f2408b57",
   "metadata": {},
   "source": [
    "***[1]*** Calculamos el autovector asociado al segundo autovalor más chico de L ($\\lambda>0$)\n",
    "\n",
    "Este $\\lambda_{min}$ esta asociado a un autovector $v_{min} \\in \\Re^{N}$ que se interpreta como.\n",
    "$$\\begin{cases}\n",
    "    sign(v_i) = 1 & \\text{ si museo}_i \\in \\text{comunidadA} \\\\\n",
    "    sign(v_i) = -1 & \\text{ si museo}_i \\in \\text{comunidadB} \\\\\n",
    "\\end{cases}$$ \n",
    "\n",
    "***N***: cantidad de musos"
   ]
  },
  {
   "cell_type": "markdown",
   "id": "3d810fa2",
   "metadata": {},
   "source": [
    "<center> <img src='img/comunidades_L.png' width=500, height=300> </center>"
   ]
  },
  {
   "cell_type": "code",
   "execution_count": 3,
   "id": "8f78c4ad",
   "metadata": {},
   "outputs": [
    {
     "name": "stdout",
     "output_type": "stream",
     "text": [
      "Segundo autovalor mínimo de L: 9.999999999919938e-06\n",
      "Comunidades (s):  [-1, -1, -1, -1, 1, 1, 1, 1]\n"
     ]
    }
   ],
   "source": [
    "L_sample = calcula_L(A_sample)\n",
    "segundo_autovalor_minimo_L, segundo_autovector_minimo_L = metpotI2(L_sample, mu=1e-5)\n",
    "\n",
    "print(\"Segundo autovalor mínimo de L:\", segundo_autovalor_minimo_L)\n",
    "print(\"Comunidades (s): \", comunidades(segundo_autovector_minimo_L))"
   ]
  },
  {
   "cell_type": "markdown",
   "id": "2c9f1f5e",
   "metadata": {},
   "source": [
    "***[2]***: Calcular el autovector asociado al autovalor más grande de R.\n",
    "\n",
    "Este $\\lambda_{max}$ esta asociado a un autovector $v_ \\in \\Re^{N}$ que se interpreta como.\n",
    "$$\\begin{cases}\n",
    "    sign(v_i) = 1 & \\text{ si museo}_i \\in \\text{comunidadA} \\\\\n",
    "    sign(v_i) = -1 & \\text{ si museo}_i \\in \\text{comunidadB} \\\\\n",
    "\\end{cases}$$ "
   ]
  },
  {
   "cell_type": "markdown",
   "id": "894494e2",
   "metadata": {},
   "source": [
    "<center> <img src='img/comunidades_R.png' width=500, height=300> </center>"
   ]
  },
  {
   "cell_type": "code",
   "execution_count": 4,
   "id": "0c8dc974",
   "metadata": {},
   "outputs": [
    {
     "name": "stdout",
     "output_type": "stream",
     "text": [
      "Autovalor máximo para R: -2.6826903902575614\n",
      "Comunidades (s):  [1, 1, 1, 1, 1, 1, 1, 1]\n"
     ]
    }
   ],
   "source": [
    "R_sample = calcula_R(A_sample)\n",
    "autovalor_maximo_R, autovector_maximo_R = metpot(R_sample)\n",
    "\n",
    "print(\"Autovalor máximo para R:\", autovalor_maximo_R)\n",
    "print(\"Comunidades (s): \", comunidades(autovector_maximo_R))"
   ]
  },
  {
   "cell_type": "markdown",
   "id": "14d3e208",
   "metadata": {},
   "source": [
    "## Ejercicio 4."
   ]
  },
  {
   "cell_type": "code",
   "execution_count": 5,
   "id": "0b957275",
   "metadata": {},
   "outputs": [
    {
     "name": "stderr",
     "output_type": "stream",
     "text": [
      "/home/sebastian/.local/lib/python3.10/site-packages/matplotlib/projections/__init__.py:63: UserWarning: Unable to import Axes3D. This may be due to multiple versions of Matplotlib being installed (e.g. as a system package and as a pip package). As a result, the 3D projection is not available.\n",
      "  warnings.warn(\"Unable to import Axes3D. This may be due to multiple versions of \"\n"
     ]
    }
   ],
   "source": [
    "import geopandas as gpd \n",
    "import matplotlib.pyplot as plt\n",
    "from matplotlib.lines import Line2D\n",
    "import networkx as nx\n",
    "from template_funciones import * "
   ]
  },
  {
   "cell_type": "code",
   "execution_count": 6,
   "id": "264f1b97",
   "metadata": {},
   "outputs": [],
   "source": [
    "museos = gpd.read_file('https://raw.githubusercontent.com/MuseosAbiertos/Leaflet-museums-OpenStreetMap/refs/heads/principal/data/export.geojson')\n",
    "barrios = gpd.read_file('https://cdn.buenosaires.gob.ar/datosabiertos/datasets/ministerio-de-educacion/barrios/barrios.geojson')\n",
    "D = museos.to_crs(\"EPSG:22184\").geometry.apply(lambda g: museos.to_crs(\"EPSG:22184\").distance(g)).round().to_numpy()\n",
    "M = [3, 5, 10, 50]\n",
    "\n",
    "def construir_grafo(A):\n",
    "    G = nx.from_numpy_array(A) # Construimos la red a partir de la matriz de adyacencia\n",
    "    # Construimos un layout a partir de las coordenadas geográficas\n",
    "    G_layout = {i:v for i,v in enumerate(zip(museos.to_crs(\"EPSG:22184\").get_coordinates()['x'],museos.to_crs(\"EPSG:22184\").get_coordinates()['y']))}\n",
    "    return G, G_layout"
   ]
  },
  {
   "cell_type": "code",
   "execution_count": 7,
   "id": "6068ce42",
   "metadata": {},
   "outputs": [],
   "source": [
    "def graficar_particion(A, comunidades, titulo, ax, colores):\n",
    "\n",
    "    # Graficamos los barrios\n",
    "    barrios.to_crs(\"EPSG:22184\").boundary.plot(color='gray', ax=ax)\n",
    "\n",
    "    # Construimos el grafo\n",
    "    G, G_layout = construir_grafo(A)\n",
    "\n",
    "    # Generamos colores para las particiones\n",
    "    colores = plt.cm.Set1(np.linspace(0, 1, len(comunidades)))\n",
    "\n",
    "    # Crear diccionario de colores para cada nodo\n",
    "    node_colors = {}\n",
    "    for i, particion in enumerate(comunidades):\n",
    "        for nodo in particion:\n",
    "            node_colors[nodo] = colores[i]\n",
    "\n",
    "    # Crear lista de colores en el orden de los nodos del grafo\n",
    "    node_color_list = [node_colors.get(nodo, 'lightgray') for nodo in G.nodes()]\n",
    "\n",
    "    # Dibujar el grafo con colores por partición\n",
    "    nx.draw_networkx_nodes(G, G_layout, \n",
    "                            node_color=node_color_list, \n",
    "                            node_size=300, \n",
    "                            alpha=0.8, \n",
    "                            ax=ax)\n",
    "\n",
    "    # nx.draw_networkx_labels(G, G_layout, \n",
    "    #                         font_size=8, \n",
    "    #                         font_color='white', \n",
    "    #                         font_weight='bold', \n",
    "    #                         ax=ax)\n",
    "\n",
    "    # Agregar leyenda\n",
    "    legend_elements = [Line2D([0], [0], marker='o', color='w', \n",
    "                                markerfacecolor=colores[i], markersize=10, \n",
    "                                label=f'Partición {i+1}')\n",
    "                        for i in range(len(comunidades))]\n",
    "\n",
    "    # ax.legend(handles=legend_elements, loc='upper right')\n",
    "\n",
    "    # ax.title('Red con particiones coloreadas')\n"
   ]
  },
  {
   "cell_type": "markdown",
   "id": "0129fe3d",
   "metadata": {},
   "source": [
    "#### Particiones óptimas calculadas con el método de modularidad:"
   ]
  },
  {
   "cell_type": "code",
   "execution_count": null,
   "id": "57d360d8",
   "metadata": {},
   "outputs": [
    {
     "ename": "TypeError",
     "evalue": "'function' object is not subscriptable",
     "output_type": "error",
     "traceback": [
      "\u001b[0;31m---------------------------------------------------------------------------\u001b[0m",
      "\u001b[0;31mTypeError\u001b[0m                                 Traceback (most recent call last)",
      "Cell \u001b[0;32mIn[8], line 5\u001b[0m\n\u001b[1;32m      3\u001b[0m \u001b[38;5;28;01mfor\u001b[39;00m i, m \u001b[38;5;129;01min\u001b[39;00m \u001b[38;5;28menumerate\u001b[39m(M):\n\u001b[1;32m      4\u001b[0m     A \u001b[38;5;241m=\u001b[39m simetrizar_A(construye_adyacencia(D, m))\n\u001b[0;32m----> 5\u001b[0m     graficar_particion(A, \u001b[43mcomunidades\u001b[49m\u001b[43m[\u001b[49m\u001b[43mi\u001b[49m\u001b[43m]\u001b[49m, titulo\u001b[38;5;241m=\u001b[39m\u001b[38;5;124mf\u001b[39m\u001b[38;5;124m\"\u001b[39m\u001b[38;5;124mPartición óptima con modularidad \u001b[39m\u001b[38;5;132;01m{\u001b[39;00mm\u001b[38;5;132;01m}\u001b[39;00m\u001b[38;5;124m\"\u001b[39m, ax\u001b[38;5;241m=\u001b[39maxes[i])\n\u001b[1;32m      7\u001b[0m plt\u001b[38;5;241m.\u001b[39mtight_layout()\n\u001b[1;32m      8\u001b[0m plt\u001b[38;5;241m.\u001b[39mshow()\n",
      "\u001b[0;31mTypeError\u001b[0m: 'function' object is not subscriptable"
     ]
    },
    {
     "data": {
      "image/png": "[encoded data removed]",
      "text/plain": [
       "<Figure size 1800x600 with 4 Axes>"
      ]
     },
     "metadata": {},
     "output_type": "display_data"
    }
   ],
   "source": [
    "fig, axes = plt.subplots(1, len(M), figsize=(18, 6))\n",
    "\n",
    "for i, m in enumerate(M):\n",
    "    A = simetrizar_A(construye_adyacencia(D, m))\n",
    "    comunidades = modularidad_iterativo(A)\n",
    "    graficar_particion(A, comunidades[i], titulo=f\"Partición óptima con modularidad {m}\", ax=axes[i])\n",
    "\n",
    "plt.tight_layout()\n",
    "plt.show()"
   ]
  },
  {
   "cell_type": "markdown",
   "id": "60e88b33",
   "metadata": {},
   "source": [
    "#### Particiones óptimas calculadas con el método de Laplaciano:"
   ]
  },
  {
   "cell_type": "code",
   "execution_count": null,
   "id": "3f87a054",
   "metadata": {},
   "outputs": [
    {
     "data": {
      "text/plain": [
       "560.0"
      ]
     },
     "execution_count": 10,
     "metadata": {},
     "output_type": "execute_result"
    }
   ],
   "source": [
    "for A in matrices_A:\n",
    "    particiones = laplaciano_iterativo(A, niveles=1)\n",
    "    "
   ]
  }
 ],
 "metadata": {
  "kernelspec": {
   "display_name": "Python 3",
   "language": "python",
   "name": "python3"
  },
  "language_info": {
   "codemirror_mode": {
    "name": "ipython",
    "version": 3
   },
   "file_extension": ".py",
   "mimetype": "text/x-python",
   "name": "python",
   "nbconvert_exporter": "python",
   "pygments_lexer": "ipython3",
   "version": "3.10.12"
  }
 },
 "nbformat": 4,
 "nbformat_minor": 5
}
