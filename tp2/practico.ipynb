{
 "cells": [
  {
   "cell_type": "markdown",
   "id": "7edf6eed",
   "metadata": {},
   "source": [
    "## Ejercicio 3. \n",
    "\n",
    "Nos piden aplicar las funciones para:\n",
    "\n",
    "***[1]***: Calcular el autovector asociado al autovalor más chico de la matríz L.\n",
    "\n",
    "***[2]***: Calcular el autovector asociado al autovalor más grande de R.\n",
    "\n",
    "Además, interpretar los valores que nos dan en términos del grafo.\n",
    "\n",
    "También nos piden calcular los vectores ***s*** asociados a estos autovectores y comparar con la particion esperada con el grafo de ejemplo.\n"
   ]
  },
  {
   "cell_type": "code",
   "execution_count": 1,
   "id": "1c9e5d72",
   "metadata": {},
   "outputs": [],
   "source": [
    "import numpy as np\n",
    "from linalg import *"
   ]
  },
  {
   "cell_type": "code",
   "execution_count": 2,
   "id": "eaaaf92e",
   "metadata": {},
   "outputs": [],
   "source": [
    "# Grafo de ejemplo\n",
    "A_sample = np.array([\n",
    "    [0, 1, 1, 1, 0, 0, 0, 0],\n",
    "    [1, 0, 1, 1, 0, 0, 0, 0],\n",
    "    [1, 1, 0, 1, 0, 0, 0, 0],\n",
    "    [1, 1, 1, 0, 0, 0, 0, 0],\n",
    "    [0, 0, 0, 0, 0, 1, 1, 1],\n",
    "    [0, 0, 0, 0, 1, 0, 1, 1],\n",
    "    [0, 0, 0, 0, 1, 1, 0, 1],\n",
    "    [0, 0, 0, 0, 1, 1, 1, 0]\n",
    "])\n",
    "\n",
    "# Función para obtener el vector s\n",
    "comunidades = lambda autovector: [1 if x > 0 else -1 for x in autovector] "
   ]
  },
  {
   "cell_type": "markdown",
   "id": "f2408b57",
   "metadata": {},
   "source": [
    "***[1]*** Calculamos el autovector asociado al segundo autovalor más chico de L ($\\lambda>0$)\n",
    "\n",
    "Este $\\lambda_{min}$ esta asociado a un autovector $v_{min} \\in \\Re^{N}$ que se interpreta como.\n",
    "$$\\begin{cases}\n",
    "    sign(v_i) = 1 & \\text{ si museo}_i \\in \\text{comunidadA} \\\\\n",
    "    sign(v_i) = -1 & \\text{ si museo}_i \\in \\text{comunidadB} \\\\\n",
    "\\end{cases}$$ \n",
    "\n",
    "***N***: cantidad de musos"
   ]
  },
  {
   "cell_type": "markdown",
   "id": "3d810fa2",
   "metadata": {},
   "source": [
    "<center> <img src='img/comunidades_L.png' width=500, height=300> </center>"
   ]
  },
  {
   "cell_type": "code",
   "execution_count": 3,
   "id": "8f78c4ad",
   "metadata": {},
   "outputs": [
    {
     "name": "stdout",
     "output_type": "stream",
     "text": [
      "Segundo autovalor mínimo de L: 9.999999999919936e-06\n",
      "Comunidades (s):  [-1, -1, -1, -1, 1, 1, 1, 1]\n"
     ]
    }
   ],
   "source": [
    "L_sample = calcula_L(A_sample)\n",
    "segundo_autovalor_minimo_L, segundo_autovector_minimo_L = metpotI2(L_sample, mu=1e-5)\n",
    "\n",
    "print(\"Segundo autovalor mínimo de L:\", segundo_autovalor_minimo_L)\n",
    "print(\"Comunidades (s): \", comunidades(segundo_autovector_minimo_L))"
   ]
  },
  {
   "cell_type": "markdown",
   "id": "2c9f1f5e",
   "metadata": {},
   "source": [
    "***[2]***: Calcular el autovector asociado al autovalor más grande de R.\n",
    "\n",
    "Este $\\lambda_{max}$ esta asociado a un autovector $v_ \\in \\Re^{N}$ que se interpreta como.\n",
    "$$\\begin{cases}\n",
    "    sign(v_i) = 1 & \\text{ si museo}_i \\in \\text{comunidadA} \\\\\n",
    "    sign(v_i) = -1 & \\text{ si museo}_i \\in \\text{comunidadB} \\\\\n",
    "\\end{cases}$$ "
   ]
  },
  {
   "cell_type": "markdown",
   "id": "894494e2",
   "metadata": {},
   "source": [
    "<center> <img src='img/comunidades_R.png' width=500, height=300> </center>"
   ]
  },
  {
   "cell_type": "code",
   "execution_count": 4,
   "id": "0c8dc974",
   "metadata": {},
   "outputs": [
    {
     "name": "stdout",
     "output_type": "stream",
     "text": [
      "Autovalor máximo para R: -2.838660118048165\n",
      "Comunidades (s):  [1, 1, 1, 1, 1, 1, 1, 1]\n"
     ]
    }
   ],
   "source": [
    "R_sample = calcula_R(A_sample)\n",
    "autovalor_maximo_R, autovector_maximo_R = metpot(R_sample)\n",
    "\n",
    "print(\"Autovalor máximo para R:\", autovalor_maximo_R)\n",
    "print(\"Comunidades (s): \", comunidades(autovector_maximo_R))"
   ]
  }
 ],
 "metadata": {
  "kernelspec": {
   "display_name": "Python 3",
   "language": "python",
   "name": "python3"
  },
  "language_info": {
   "codemirror_mode": {
    "name": "ipython",
    "version": 3
   },
   "file_extension": ".py",
   "mimetype": "text/x-python",
   "name": "python",
   "nbconvert_exporter": "python",
   "pygments_lexer": "ipython3",
   "version": "3.10.12"
  }
 },
 "nbformat": 4,
 "nbformat_minor": 5
}
