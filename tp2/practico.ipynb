{
 "cells": [
  {
   "cell_type": "markdown",
   "id": "7edf6eed",
   "metadata": {},
   "source": [
    "## Ejercicio 3. \n",
    "\n",
    "Nos piden aplicar las funciones para:\n",
    "\n",
    "***[1]***: Calcular el autovector asociado al autovalor más chico de la matríz L.\n",
    "\n",
    "***[2]***: Calcular el autovector asociado al autovalor más grande de R.\n",
    "\n",
    "Además, interpretar los valores que nos dan en términos del grafo.\n",
    "\n",
    "También nos piden calcular los vectores ***s*** asociados a estos autovectores y comparar con la particion esperada con el grafo de ejemplo.\n"
   ]
  },
  {
   "cell_type": "code",
   "execution_count": null,
   "id": "1c9e5d72",
   "metadata": {},
   "outputs": [],
   "source": [
    "import numpy as np\n",
    "from linalg import *\n"
   ]
  },
  {
   "cell_type": "code",
   "execution_count": 4,
   "id": "eaaaf92e",
   "metadata": {},
   "outputs": [],
   "source": [
    "# Grafo de ejemplo\n",
    "A_sample = np.array([\n",
    "    [0, 1, 1, 1, 0, 0, 0, 0],\n",
    "    [1, 0, 1, 1, 0, 0, 0, 0],\n",
    "    [1, 1, 0, 1, 0, 0, 0, 0],\n",
    "    [1, 1, 1, 0, 0, 0, 0, 0],\n",
    "    [0, 0, 0, 0, 0, 1, 1, 1],\n",
    "    [0, 0, 0, 0, 1, 0, 1, 1],\n",
    "    [0, 0, 0, 0, 1, 1, 0, 1],\n",
    "    [0, 0, 0, 0, 1, 1, 1, 0]\n",
    "])\n",
    "\n",
    "# Función para obtener el vector s\n",
    "comunidades = lambda autovector: [1 if x > 0 else -1 for x in autovector] "
   ]
  },
  {
   "cell_type": "markdown",
   "id": "f2408b57",
   "metadata": {},
   "source": [
    "***[1]*** Calculamos el autovector asociado al segundo autovalor más chico de L ($\\lambda>0$)\n",
    "\n",
    "Este $\\lambda_{min}$ esta asociado a un autovector $v_{min} \\in \\Re^{N}$ que se interpreta como.\n",
    "$$\\begin{cases}\n",
    "    sign(v_i) = 1 & \\text{ si museo}_i \\in \\text{comunidadA} \\\\\n",
    "    sign(v_i) = -1 & \\text{ si museo}_i \\in \\text{comunidadB} \\\\\n",
    "\\end{cases}$$ \n",
    "\n",
    "***N***: cantidad de musos"
   ]
  },
  {
   "cell_type": "markdown",
   "id": "3d810fa2",
   "metadata": {},
   "source": [
    "<center> <img src='img/comunidades_L.png' width=500, height=300> </center>"
   ]
  },
  {
   "cell_type": "code",
   "execution_count": 9,
   "id": "8f78c4ad",
   "metadata": {},
   "outputs": [
    {
     "name": "stdout",
     "output_type": "stream",
     "text": [
      "Segundo autovalor mínimo de L: 9.99999999991994e-06\n",
      "Comunidades (s):  [-1, -1, -1, -1, 1, 1, 1, 1]\n"
     ]
    }
   ],
   "source": [
    "L_sample = calcula_L(A_sample)\n",
    "segundo_autovalor_minimo_L, segundo_autovector_minimo_L = metpotI2(L_sample, mu=1e-5)\n",
    "\n",
    "print(\"Segundo autovalor mínimo de L:\", segundo_autovalor_minimo_L)\n",
    "print(\"Comunidades (s): \", comunidades(segundo_autovector_minimo_L))"
   ]
  },
  {
   "cell_type": "markdown",
   "id": "2c9f1f5e",
   "metadata": {},
   "source": [
    "***[2]***: Calcular el autovector asociado al autovalor más grande de R.\n",
    "\n",
    "Este $\\lambda_{max}$ esta asociado a un autovector $v_ \\in \\Re^{N}$ que se interpreta como.\n",
    "$$\\begin{cases}\n",
    "    sign(v_i) = 1 & \\text{ si museo}_i \\in \\text{comunidadA} \\\\\n",
    "    sign(v_i) = -1 & \\text{ si museo}_i \\in \\text{comunidadB} \\\\\n",
    "\\end{cases}$$ "
   ]
  },
  {
   "cell_type": "markdown",
   "id": "894494e2",
   "metadata": {},
   "source": [
    "<center> <img src='img/comunidades_R.png' width=500, height=300> </center>"
   ]
  },
  {
   "cell_type": "code",
   "execution_count": 10,
   "id": "0c8dc974",
   "metadata": {},
   "outputs": [
    {
     "name": "stdout",
     "output_type": "stream",
     "text": [
      "Autovalor máximo para R: -2.4446460281609754\n",
      "Comunidades (s):  [1, 1, 1, 1, 1, 1, 1, 1]\n"
     ]
    }
   ],
   "source": [
    "R_sample = calcula_R(A_sample)\n",
    "autovalor_maximo_R, autovector_maximo_R = metpot(R_sample)\n",
    "\n",
    "print(\"Autovalor máximo para R:\", autovalor_maximo_R)\n",
    "print(\"Comunidades (s): \", comunidades(autovector_maximo_R))"
   ]
  },
  {
   "cell_type": "markdown",
   "id": "14d3e208",
   "metadata": {},
   "source": [
    "## Ejercicio 4."
   ]
  },
  {
   "cell_type": "code",
   "execution_count": 11,
   "id": "0b957275",
   "metadata": {},
   "outputs": [],
   "source": [
    "import geopandas as gpd \n",
    "import matplotlib.pyplot as plt\n",
    "from matplotlib.lines import Line2D\n",
    "import networkx as nx\n",
    "from template_funciones import * "
   ]
  },
  {
   "cell_type": "code",
   "execution_count": 12,
   "id": "264f1b97",
   "metadata": {},
   "outputs": [],
   "source": [
    "museos = gpd.read_file('https://raw.githubusercontent.com/MuseosAbiertos/Leaflet-museums-OpenStreetMap/refs/heads/principal/data/export.geojson')\n",
    "barrios = gpd.read_file('https://cdn.buenosaires.gob.ar/datosabiertos/datasets/ministerio-de-educacion/barrios/barrios.geojson')\n",
    "D = museos.to_crs(\"EPSG:22184\").geometry.apply(lambda g: museos.to_crs(\"EPSG:22184\").distance(g)).round().to_numpy()\n",
    "M = [3, 5, 10, 50]\n",
    "\n",
    "def construir_grafo(A):\n",
    "    G = nx.from_numpy_array(A) # Construimos la red a partir de la matriz de adyacencia\n",
    "    # Construimos un layout a partir de las coordenadas geográficas\n",
    "    G_layout = {i:v for i,v in enumerate(zip(museos.to_crs(\"EPSG:22184\").get_coordinates()['x'],museos.to_crs(\"EPSG:22184\").get_coordinates()['y']))}\n",
    "    return G, G_layout"
   ]
  },
  {
   "cell_type": "code",
   "execution_count": 13,
   "id": "096f4951",
   "metadata": {},
   "outputs": [
    {
     "name": "stdout",
     "output_type": "stream",
     "text": [
      "vectores óptimos para criterio del corte mínimo \n",
      "\n",
      "Corte minimo con 3 conexiones = [[np.int64(1), np.int64(8), np.int64(19), np.int64(26), np.int64(27), np.int64(28), np.int64(29), np.int64(30), np.int64(49), np.int64(50), np.int64(52), np.int64(53), np.int64(55), np.int64(57), np.int64(77), np.int64(79), np.int64(80), np.int64(82), np.int64(84), np.int64(85), np.int64(113)], [np.int64(3), np.int64(4), np.int64(6), np.int64(11), np.int64(17), np.int64(22), np.int64(24), np.int64(25), np.int64(34), np.int64(39), np.int64(42), np.int64(65), np.int64(86), np.int64(87), np.int64(88), np.int64(89), np.int64(126), np.int64(130), np.int64(131)], [np.int64(0), np.int64(2), np.int64(5), np.int64(9), np.int64(10), np.int64(12), np.int64(13), np.int64(14), np.int64(15), np.int64(16), np.int64(18), np.int64(21), np.int64(23), np.int64(32), np.int64(35), np.int64(38), np.int64(40), np.int64(43), np.int64(47), np.int64(48), np.int64(56), np.int64(59), np.int64(61), np.int64(63), np.int64(66), np.int64(78), np.int64(83), np.int64(98), np.int64(105), np.int64(107), np.int64(115), np.int64(116), np.int64(118), np.int64(123), np.int64(124), np.int64(128), np.int64(129), np.int64(133), np.int64(135)], [np.int64(7), np.int64(20), np.int64(31), np.int64(33), np.int64(36), np.int64(37), np.int64(41), np.int64(44), np.int64(45), np.int64(46), np.int64(51), np.int64(54), np.int64(58), np.int64(60), np.int64(62), np.int64(64), np.int64(67), np.int64(68), np.int64(69), np.int64(70), np.int64(71), np.int64(72), np.int64(73), np.int64(74), np.int64(75), np.int64(76), np.int64(81), np.int64(90), np.int64(91), np.int64(92), np.int64(93), np.int64(94), np.int64(95), np.int64(96), np.int64(97), np.int64(99), np.int64(100), np.int64(101), np.int64(102), np.int64(103), np.int64(104), np.int64(106), np.int64(108), np.int64(109), np.int64(110), np.int64(111), np.int64(112), np.int64(114), np.int64(117), np.int64(119), np.int64(120), np.int64(121), np.int64(122), np.int64(125), np.int64(127), np.int64(132), np.int64(134)]]\n",
      "Corte minimo con 5 conexiones = [[np.int64(3), np.int64(4), np.int64(6), np.int64(11), np.int64(17), np.int64(22), np.int64(24), np.int64(25), np.int64(34), np.int64(39), np.int64(42), np.int64(49), np.int64(65), np.int64(82), np.int64(85), np.int64(86), np.int64(87), np.int64(88), np.int64(89), np.int64(126), np.int64(130), np.int64(131)], [np.int64(1), np.int64(8), np.int64(19), np.int64(20), np.int64(26), np.int64(27), np.int64(28), np.int64(29), np.int64(30), np.int64(33), np.int64(36), np.int64(37), np.int64(44), np.int64(50), np.int64(52), np.int64(53), np.int64(55), np.int64(57), np.int64(60), np.int64(67), np.int64(75), np.int64(76), np.int64(77), np.int64(79), np.int64(80), np.int64(81), np.int64(84), np.int64(90), np.int64(91), np.int64(93), np.int64(94), np.int64(95), np.int64(96), np.int64(103), np.int64(104), np.int64(108), np.int64(110), np.int64(111), np.int64(113), np.int64(117), np.int64(122), np.int64(125), np.int64(132), np.int64(134)], [np.int64(7), np.int64(31), np.int64(45), np.int64(46), np.int64(54), np.int64(62), np.int64(64), np.int64(68), np.int64(69), np.int64(70), np.int64(71), np.int64(72), np.int64(73), np.int64(74), np.int64(99), np.int64(100), np.int64(101), np.int64(102), np.int64(106), np.int64(109), np.int64(112), np.int64(114), np.int64(119), np.int64(127)], [np.int64(0), np.int64(2), np.int64(5), np.int64(9), np.int64(10), np.int64(12), np.int64(13), np.int64(14), np.int64(15), np.int64(16), np.int64(18), np.int64(21), np.int64(23), np.int64(32), np.int64(35), np.int64(38), np.int64(40), np.int64(41), np.int64(43), np.int64(47), np.int64(48), np.int64(51), np.int64(56), np.int64(58), np.int64(59), np.int64(61), np.int64(63), np.int64(66), np.int64(78), np.int64(83), np.int64(92), np.int64(97), np.int64(98), np.int64(105), np.int64(107), np.int64(115), np.int64(116), np.int64(118), np.int64(120), np.int64(121), np.int64(123), np.int64(124), np.int64(128), np.int64(129), np.int64(133), np.int64(135)]]\n",
      "Corte minimo con 10 conexiones = [[np.int64(0), np.int64(2), np.int64(5), np.int64(9), np.int64(10), np.int64(12), np.int64(13), np.int64(14), np.int64(15), np.int64(16), np.int64(18), np.int64(21), np.int64(31), np.int64(32), np.int64(35), np.int64(40), np.int64(45), np.int64(47), np.int64(48), np.int64(54), np.int64(59), np.int64(61), np.int64(62), np.int64(63), np.int64(66), np.int64(78), np.int64(98), np.int64(99), np.int64(100), np.int64(101), np.int64(102), np.int64(107), np.int64(109), np.int64(112), np.int64(115), np.int64(116), np.int64(118), np.int64(119), np.int64(123), np.int64(124), np.int64(127), np.int64(128), np.int64(135)], [np.int64(7), np.int64(23), np.int64(38), np.int64(41), np.int64(43), np.int64(46), np.int64(51), np.int64(56), np.int64(58), np.int64(64), np.int64(68), np.int64(69), np.int64(70), np.int64(71), np.int64(72), np.int64(73), np.int64(74), np.int64(75), np.int64(83), np.int64(92), np.int64(93), np.int64(94), np.int64(97), np.int64(105), np.int64(106), np.int64(110), np.int64(111), np.int64(114), np.int64(117), np.int64(120), np.int64(121), np.int64(125), np.int64(129), np.int64(132), np.int64(133)], [np.int64(3), np.int64(4), np.int64(6), np.int64(11), np.int64(17), np.int64(22), np.int64(24), np.int64(25), np.int64(34), np.int64(39), np.int64(42), np.int64(65), np.int64(85), np.int64(86), np.int64(87), np.int64(88), np.int64(89), np.int64(90), np.int64(126), np.int64(130), np.int64(131)], [np.int64(1), np.int64(8), np.int64(19), np.int64(20), np.int64(26), np.int64(27), np.int64(28), np.int64(29), np.int64(30), np.int64(33), np.int64(36), np.int64(37), np.int64(44), np.int64(49), np.int64(50), np.int64(52), np.int64(53), np.int64(55), np.int64(57), np.int64(60), np.int64(67), np.int64(76), np.int64(77), np.int64(79), np.int64(80), np.int64(81), np.int64(82), np.int64(84), np.int64(91), np.int64(95), np.int64(96), np.int64(103), np.int64(104), np.int64(108), np.int64(113), np.int64(122), np.int64(134)]]\n",
      "Corte minimo con 50 conexiones = [[np.int64(2), np.int64(5), np.int64(10), np.int64(12), np.int64(13), np.int64(14), np.int64(15), np.int64(16), np.int64(18), np.int64(23), np.int64(38), np.int64(40), np.int64(41), np.int64(43), np.int64(51), np.int64(56), np.int64(61), np.int64(64), np.int64(69), np.int64(78), np.int64(83), np.int64(92), np.int64(105), np.int64(107), np.int64(116), np.int64(120), np.int64(121), np.int64(123), np.int64(124), np.int64(128), np.int64(133), np.int64(135)], [np.int64(0), np.int64(9), np.int64(21), np.int64(31), np.int64(32), np.int64(35), np.int64(45), np.int64(46), np.int64(47), np.int64(48), np.int64(54), np.int64(58), np.int64(59), np.int64(62), np.int64(63), np.int64(66), np.int64(68), np.int64(70), np.int64(71), np.int64(73), np.int64(74), np.int64(97), np.int64(98), np.int64(99), np.int64(100), np.int64(101), np.int64(102), np.int64(109), np.int64(112), np.int64(114), np.int64(115), np.int64(118), np.int64(119), np.int64(127)], [np.int64(3), np.int64(4), np.int64(6), np.int64(7), np.int64(8), np.int64(11), np.int64(17), np.int64(19), np.int64(24), np.int64(25), np.int64(27), np.int64(28), np.int64(30), np.int64(34), np.int64(39), np.int64(42), np.int64(55), np.int64(65), np.int64(72), np.int64(77), np.int64(79), np.int64(80), np.int64(84), np.int64(86), np.int64(87), np.int64(88), np.int64(89), np.int64(90), np.int64(93), np.int64(106), np.int64(113), np.int64(117), np.int64(125), np.int64(126), np.int64(129), np.int64(130), np.int64(131)], [np.int64(1), np.int64(20), np.int64(22), np.int64(26), np.int64(29), np.int64(33), np.int64(36), np.int64(37), np.int64(44), np.int64(49), np.int64(50), np.int64(52), np.int64(53), np.int64(57), np.int64(60), np.int64(67), np.int64(75), np.int64(76), np.int64(81), np.int64(82), np.int64(85), np.int64(91), np.int64(94), np.int64(95), np.int64(96), np.int64(103), np.int64(104), np.int64(108), np.int64(110), np.int64(111), np.int64(122), np.int64(132), np.int64(134)]]\n",
      "-------------------------------------------------------\n",
      "Vectores óptimos para el criterio de modularidad\n",
      "\n",
      "Modularidad con 3 conexiones = [[np.int64(7), np.int64(44), np.int64(64), np.int64(69), np.int64(72), np.int64(90), np.int64(93), np.int64(94), np.int64(106), np.int64(110), np.int64(111), np.int64(117), np.int64(125), np.int64(132)], [np.int64(41), np.int64(46), np.int64(51), np.int64(58), np.int64(67), np.int64(68), np.int64(70), np.int64(73), np.int64(75), np.int64(83), np.int64(91), np.int64(92), np.int64(114), np.int64(120), np.int64(121)], [np.int64(6), np.int64(17), np.int64(25), np.int64(42), np.int64(87), np.int64(88), np.int64(89), np.int64(126), np.int64(130), np.int64(131)], [np.int64(23), np.int64(24), np.int64(34), np.int64(38), np.int64(43), np.int64(56), np.int64(65), np.int64(86), np.int64(105), np.int64(129), np.int64(133)], [np.int64(0), np.int64(12), np.int64(14), np.int64(15), np.int64(18), np.int64(40), np.int64(59), np.int64(61), np.int64(78), np.int64(98), np.int64(107), np.int64(118), np.int64(124), np.int64(135)], [np.int64(2), np.int64(5), np.int64(10), np.int64(13), np.int64(16), np.int64(116), np.int64(123), np.int64(128)], [np.int64(1), np.int64(26), np.int64(28), np.int64(29), np.int64(50), np.int64(52), np.int64(55)], [np.int64(8), np.int64(19), np.int64(27), np.int64(49), np.int64(53), np.int64(57), np.int64(77), np.int64(79), np.int64(80), np.int64(82), np.int64(85), np.int64(113)], [np.int64(9), np.int64(21), np.int64(32), np.int64(35), np.int64(47), np.int64(48), np.int64(63), np.int64(66), np.int64(115)], [np.int64(3), np.int64(4), np.int64(11), np.int64(22), np.int64(30), np.int64(33), np.int64(39), np.int64(71), np.int64(74), np.int64(84), np.int64(97)], [np.int64(36), np.int64(37), np.int64(60), np.int64(76), np.int64(81), np.int64(104), np.int64(108), np.int64(122), np.int64(134)], [np.int64(20), np.int64(95), np.int64(96), np.int64(103)], [np.int64(45), np.int64(54), np.int64(62), np.int64(100), np.int64(102), np.int64(109), np.int64(112)], [np.int64(31), np.int64(99), np.int64(101), np.int64(119), np.int64(127)]]\n",
      "Modularidad con 5 conexiones = [[np.int64(8), np.int64(19), np.int64(27), np.int64(30), np.int64(77), np.int64(79), np.int64(80), np.int64(84), np.int64(113)], [np.int64(1), np.int64(4), np.int64(26), np.int64(28), np.int64(29), np.int64(49), np.int64(50), np.int64(52), np.int64(53), np.int64(55), np.int64(57), np.int64(82), np.int64(85)], [np.int64(20), np.int64(36), np.int64(37), np.int64(60), np.int64(76), np.int64(81), np.int64(104), np.int64(108), np.int64(122), np.int64(134)], [np.int64(7), np.int64(41), np.int64(44), np.int64(64), np.int64(69), np.int64(72), np.int64(90), np.int64(93), np.int64(94), np.int64(106), np.int64(110), np.int64(111), np.int64(117), np.int64(125), np.int64(132)], [np.int64(33), np.int64(46), np.int64(67), np.int64(68), np.int64(73), np.int64(75), np.int64(91), np.int64(95), np.int64(96), np.int64(103), np.int64(121)], [np.int64(0), np.int64(10), np.int64(14), np.int64(15), np.int64(18), np.int64(40), np.int64(59), np.int64(61), np.int64(78), np.int64(98), np.int64(107), np.int64(118), np.int64(124), np.int64(135)], [np.int64(2), np.int64(5), np.int64(13), np.int64(16), np.int64(116), np.int64(123), np.int64(128)], [np.int64(3), np.int64(11), np.int64(22), np.int64(34), np.int64(39), np.int64(65), np.int64(86)], [np.int64(43), np.int64(51), np.int64(58), np.int64(70), np.int64(71), np.int64(74), np.int64(83), np.int64(92), np.int64(120), np.int64(133)], [np.int64(6), np.int64(17), np.int64(24), np.int64(25), np.int64(42), np.int64(87), np.int64(88), np.int64(89), np.int64(126), np.int64(130), np.int64(131)], [np.int64(23), np.int64(38), np.int64(105), np.int64(129)], [np.int64(45), np.int64(54), np.int64(62), np.int64(100), np.int64(101), np.int64(102), np.int64(109), np.int64(112)], [np.int64(31), np.int64(99), np.int64(114), np.int64(119), np.int64(127)], [np.int64(9), np.int64(12), np.int64(21), np.int64(32), np.int64(35), np.int64(47), np.int64(48), np.int64(63), np.int64(66), np.int64(115)], [np.int64(56), np.int64(97)]]\n",
      "Modularidad con 10 conexiones = [[np.int64(1), np.int64(8), np.int64(19), np.int64(26), np.int64(27), np.int64(28), np.int64(29), np.int64(30), np.int64(49), np.int64(50), np.int64(52), np.int64(55), np.int64(57), np.int64(77), np.int64(79), np.int64(80), np.int64(82), np.int64(84), np.int64(113)], [np.int64(36), np.int64(37), np.int64(53), np.int64(60), np.int64(76), np.int64(81), np.int64(108), np.int64(122), np.int64(134)], [np.int64(0), np.int64(2), np.int64(5), np.int64(10), np.int64(13), np.int64(14), np.int64(15), np.int64(16), np.int64(18), np.int64(40), np.int64(59), np.int64(61), np.int64(78), np.int64(98), np.int64(107), np.int64(116), np.int64(123), np.int64(124), np.int64(128), np.int64(135)], [np.int64(43), np.int64(56), np.int64(83), np.int64(97), np.int64(133)], [np.int64(3), np.int64(4), np.int64(6), np.int64(11), np.int64(17), np.int64(22), np.int64(24), np.int64(25), np.int64(34), np.int64(39), np.int64(42), np.int64(65), np.int64(85), np.int64(86), np.int64(87), np.int64(88), np.int64(89), np.int64(126), np.int64(129), np.int64(130), np.int64(131)], [np.int64(23), np.int64(38), np.int64(105)], [np.int64(7), np.int64(33), np.int64(41), np.int64(44), np.int64(64), np.int64(67), np.int64(69), np.int64(72), np.int64(90), np.int64(91), np.int64(93), np.int64(94), np.int64(96), np.int64(103), np.int64(106), np.int64(110), np.int64(111), np.int64(117), np.int64(125), np.int64(132)], [np.int64(120)], [np.int64(9), np.int64(12), np.int64(21), np.int64(35), np.int64(45), np.int64(47), np.int64(48), np.int64(54), np.int64(62), np.int64(63), np.int64(66), np.int64(100), np.int64(101), np.int64(102), np.int64(109), np.int64(112), np.int64(115), np.int64(118)], [np.int64(32)], [np.int64(31), np.int64(46), np.int64(58), np.int64(68), np.int64(70), np.int64(71), np.int64(73), np.int64(74), np.int64(75), np.int64(99), np.int64(104), np.int64(114), np.int64(119), np.int64(121), np.int64(127)], [np.int64(20), np.int64(51), np.int64(92), np.int64(95)]]\n",
      "Modularidad con 50 conexiones = [[np.int64(31), np.int64(58), np.int64(71), np.int64(73), np.int64(74), np.int64(99), np.int64(119), np.int64(127)], [np.int64(0), np.int64(2), np.int64(5), np.int64(9), np.int64(10), np.int64(12), np.int64(13), np.int64(14), np.int64(15), np.int64(16), np.int64(18), np.int64(21), np.int64(32), np.int64(35), np.int64(40), np.int64(45), np.int64(47), np.int64(48), np.int64(54), np.int64(59), np.int64(61), np.int64(62), np.int64(63), np.int64(66), np.int64(78), np.int64(98), np.int64(100), np.int64(101), np.int64(102), np.int64(107), np.int64(109), np.int64(112), np.int64(115), np.int64(116), np.int64(118), np.int64(123), np.int64(124), np.int64(128), np.int64(135)], [np.int64(97)], [np.int64(1), np.int64(3), np.int64(4), np.int64(8), np.int64(11), np.int64(19), np.int64(20), np.int64(22), np.int64(24), np.int64(26), np.int64(27), np.int64(28), np.int64(29), np.int64(30), np.int64(34), np.int64(37), np.int64(39), np.int64(42), np.int64(49), np.int64(50), np.int64(52), np.int64(53), np.int64(55), np.int64(57), np.int64(65), np.int64(76), np.int64(77), np.int64(79), np.int64(80), np.int64(82), np.int64(84), np.int64(85), np.int64(86), np.int64(95), np.int64(103), np.int64(113), np.int64(131)], [np.int64(6), np.int64(25), np.int64(33), np.int64(44), np.int64(67), np.int64(87), np.int64(88), np.int64(90), np.int64(91), np.int64(110), np.int64(130)], [np.int64(36), np.int64(60), np.int64(72), np.int64(81), np.int64(93), np.int64(94), np.int64(96), np.int64(104), np.int64(108), np.int64(111), np.int64(117), np.int64(122), np.int64(125), np.int64(132), np.int64(134)], [np.int64(7), np.int64(17), np.int64(89), np.int64(106), np.int64(126), np.int64(129)], [np.int64(23), np.int64(38), np.int64(43), np.int64(56), np.int64(83), np.int64(92), np.int64(105), np.int64(133)], [np.int64(41), np.int64(46), np.int64(51), np.int64(64), np.int64(68), np.int64(69), np.int64(70), np.int64(75), np.int64(114), np.int64(120), np.int64(121)]]\n"
     ]
    }
   ],
   "source": [
    "#siendo m la cantidad de conexiones \n",
    "A1 = construye_adyacencia(D,3)\n",
    "A2 = construye_adyacencia(D,5)\n",
    "A3 = construye_adyacencia(D,10)\n",
    "A4 = construye_adyacencia(D,50)\n",
    "\n",
    "\n",
    "#calculo de las particiones optimas \n",
    "#(laplaciano):\n",
    "s_l1 = laplaciano_iterativo(A1, 2) ## 2^k niveles \n",
    "s_l2 = laplaciano_iterativo(A2, 2)\n",
    "s_l3 = laplaciano_iterativo(A3, 2)\n",
    "s_l4 = laplaciano_iterativo(A4, 2)\n",
    "\n",
    "#(modularidad):\n",
    "mod1 = modularidad_iterativo(A1)\n",
    "mod2 = modularidad_iterativo(A2)\n",
    "mod3 = modularidad_iterativo(A3)\n",
    "mod4 = modularidad_iterativo(A4)\n",
    "\n",
    "print(\"vectores óptimos para criterio del corte mínimo \\n\") \n",
    "\n",
    "#considerando un k=2 para el nivel \n",
    "print(f\"Corte minimo con 3 conexiones = {s_l1}\")\n",
    "print(f\"Corte minimo con 5 conexiones = {s_l2}\")\n",
    "print(f\"Corte minimo con 10 conexiones = {s_l3}\")\n",
    "print(f\"Corte minimo con 50 conexiones = {s_l4}\")\n",
    "\n",
    "print(\"-------------------------------------------------------\")\n",
    "print(\"Vectores óptimos para el criterio de modularidad\\n\")\n",
    "print(f\"Modularidad con 3 conexiones = {mod1}\")\n",
    "print(f\"Modularidad con 5 conexiones = {mod2}\")\n",
    "print(f\"Modularidad con 10 conexiones = {mod3}\")\n",
    "print(f\"Modularidad con 50 conexiones = {mod4}\")\n",
    "\n"
   ]
  },
  {
   "cell_type": "code",
   "execution_count": 15,
   "id": "6068ce42",
   "metadata": {},
   "outputs": [],
   "source": [
    "def graficar_particion(A, comunidades, titulo, ax, colores):\n",
    "\n",
    "    # Graficamos los barrios\n",
    "    barrios.to_crs(\"EPSG:22184\").boundary.plot(color='gray', ax=ax)\n",
    "\n",
    "    # Construimos el grafo\n",
    "    G, G_layout = construir_grafo(A)\n",
    "\n",
    "    # Generamos colores para las particiones\n",
    "    colores = plt.cm.Set1(np.linspace(0, 1, len(comunidades)))\n",
    "\n",
    "    # Crear diccionario de colores para cada nodo\n",
    "    node_colors = {}\n",
    "    for i, particion in enumerate(comunidades):\n",
    "        for nodo in particion:\n",
    "            node_colors[nodo] = colores[i]\n",
    "\n",
    "    # Crear lista de colores en el orden de los nodos del grafo\n",
    "    node_color_list = [node_colors.get(nodo, 'lightgray') for nodo in G.nodes()]\n",
    "\n",
    "    # Dibujar el grafo con colores por partición\n",
    "    nx.draw_networkx_nodes(G, G_layout, \n",
    "                            node_color=node_color_list, \n",
    "                            node_size=300, \n",
    "                            alpha=0.8, \n",
    "                            ax=ax)\n",
    "\n",
    "    # nx.draw_networkx_labels(G, G_layout, \n",
    "    #                         font_size=8, \n",
    "    #                         font_color='white', \n",
    "    #                         font_weight='bold', \n",
    "    #                         ax=ax)\n",
    "\n",
    "    # Agregar leyenda\n",
    "    legend_elements = [Line2D([0], [0], marker='o', color='w', \n",
    "                                markerfacecolor=colores[i], markersize=10, \n",
    "                                label=f'Partición {i+1}')\n",
    "                        for i in range(len(comunidades))]\n",
    "\n",
    "    # ax.legend(handles=legend_elements, loc='upper right')\n",
    "\n",
    "    # ax.title('Red con particiones coloreadas')\n"
   ]
  },
  {
   "cell_type": "markdown",
   "id": "0129fe3d",
   "metadata": {},
   "source": [
    "#### Particiones óptimas calculadas con el método de modularidad:"
   ]
  },
  {
   "cell_type": "code",
   "execution_count": null,
   "id": "57d360d8",
   "metadata": {},
   "outputs": [
    {
     "ename": "TypeError",
     "evalue": "graficar_particion() missing 1 required positional argument: 'colores'",
     "output_type": "error",
     "traceback": [
      "\u001b[0;31m---------------------------------------------------------------------------\u001b[0m",
      "\u001b[0;31mTypeError\u001b[0m                                 Traceback (most recent call last)",
      "Cell \u001b[0;32mIn[16], line 6\u001b[0m\n\u001b[1;32m      4\u001b[0m     A \u001b[38;5;241m=\u001b[39m simetrizar_A(construye_adyacencia(D, m))\n\u001b[1;32m      5\u001b[0m     comunidades \u001b[38;5;241m=\u001b[39m modularidad_iterativo(A)\n\u001b[0;32m----> 6\u001b[0m     \u001b[43mgraficar_particion\u001b[49m\u001b[43m(\u001b[49m\u001b[43mA\u001b[49m\u001b[43m,\u001b[49m\u001b[43m \u001b[49m\u001b[43mcomunidades\u001b[49m\u001b[43m[\u001b[49m\u001b[43mi\u001b[49m\u001b[43m]\u001b[49m\u001b[43m,\u001b[49m\u001b[43m \u001b[49m\u001b[43mtitulo\u001b[49m\u001b[38;5;241;43m=\u001b[39;49m\u001b[38;5;124;43mf\u001b[39;49m\u001b[38;5;124;43m\"\u001b[39;49m\u001b[38;5;124;43mPartición óptima con modularidad \u001b[39;49m\u001b[38;5;132;43;01m{\u001b[39;49;00m\u001b[43mm\u001b[49m\u001b[38;5;132;43;01m}\u001b[39;49;00m\u001b[38;5;124;43m\"\u001b[39;49m\u001b[43m,\u001b[49m\u001b[43m \u001b[49m\u001b[43max\u001b[49m\u001b[38;5;241;43m=\u001b[39;49m\u001b[43maxes\u001b[49m\u001b[43m[\u001b[49m\u001b[43mi\u001b[49m\u001b[43m]\u001b[49m\u001b[43m)\u001b[49m\n\u001b[1;32m      8\u001b[0m plt\u001b[38;5;241m.\u001b[39mtight_layout()\n\u001b[1;32m      9\u001b[0m plt\u001b[38;5;241m.\u001b[39mshow()\n",
      "\u001b[0;31mTypeError\u001b[0m: graficar_particion() missing 1 required positional argument: 'colores'"
     ]
    },
    {
     "data": {
      "image/png": "[encoded data removed]",
      "text/plain": [
       "<Figure size 1800x600 with 4 Axes>"
      ]
     },
     "metadata": {},
     "output_type": "display_data"
    }
   ],
   "source": [
    "fig, axes = plt.subplots(1, len(M), figsize=(18, 6))\n",
    "\n",
    "for i, m in enumerate(M):\n",
    "    A = simetrizar_A(construye_adyacencia(D, m))\n",
    "    comunidades = modularidad_iterativo(A)\n",
    "    graficar_particion(A, comunidades[i], titulo=f\"Partición óptima con modularidad {m}\", ax=axes[i])\n",
    "\n",
    "plt.tight_layout()\n",
    "plt.show()"
   ]
  },
  {
   "cell_type": "markdown",
   "id": "60e88b33",
   "metadata": {},
   "source": [
    "#### Particiones óptimas calculadas con el método de Laplaciano:"
   ]
  },
  {
   "cell_type": "code",
   "execution_count": null,
   "id": "3f87a054",
   "metadata": {},
   "outputs": [],
   "source": [
    "for A in matrices_A:\n",
    "    particiones = laplaciano_iterativo(A, niveles=1)\n",
    "    "
   ]
  }
 ],
 "metadata": {
  "kernelspec": {
   "display_name": ".venv",
   "language": "python",
   "name": "python3"
  },
  "language_info": {
   "codemirror_mode": {
    "name": "ipython",
    "version": 3
   },
   "file_extension": ".py",
   "mimetype": "text/x-python",
   "name": "python",
   "nbconvert_exporter": "python",
   "pygments_lexer": "ipython3",
   "version": "3.10.12"
  }
 },
 "nbformat": 4,
 "nbformat_minor": 5
}
