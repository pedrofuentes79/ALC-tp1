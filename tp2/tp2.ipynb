{
 "cells": [
  {
   "cell_type": "markdown",
   "metadata": {},
   "source": [
    "# Ejercicio 1a\n",
    "Probar que $\\mathbb{1}$ es autovector de $R$ y $L$, dar su autovalor, y explicar qué agrupación de la red representa ese autovector.\n"
   ]
  },
  {
   "cell_type": "markdown",
   "metadata": {},
   "source": [
    "Veamos primero que es autovector de $L$.\n",
    "Veamos que \n",
    "$$L_{ij} = \\begin{cases}\n",
    "        \\sum_{h=1}^{n}{A_{ih}} - A_{ij} & \\text{si } i=j \\\\ \n",
    "        -A_{ij} & \\text{si } i\\neq j \n",
    "\\end{cases}$$\n",
    "\n",
    "Reducimos esta expresion, usando que $A_{ii} = 0$, para cualquier $i$.\n",
    "\n",
    "$$L_{ij} = \\begin{cases}\n",
    "        \\sum_{h=1}^{n}{A_{ih}} & \\text{si } i=j \\\\ \n",
    "        -A_{ij} & \\text{si } i\\neq j \n",
    "\\end{cases}$$\n",
    "\n",
    "Veamos que cumple la ecuacion\n",
    "\n",
    "$$L \\cdot \\mathbb{1} = \\lambda_1 \\cdot \\mathbb{1}$$\n",
    "\n",
    "Esto es lo mismo que ver un sistema de ecuaciones de $n$ ecuaciones. Miremos una arbitraria, con el indice $k$\n",
    "\n",
    "$$\\sum_{i=1}^{n} L_{ki} = \\lambda_1$$\n",
    "\n",
    "$$\\sum_{i=1 \\land i\\neq k}^{n} L_{ki} + L_{kk} = \\lambda_1$$\n",
    "\n",
    "$$\\sum_{i=1 \\land i\\neq k}^{n}{-A_{ki}} + \\sum_{h=1}^{n}{A_{kh}} = \\lambda_1$$\n",
    "\n",
    "$$\\sum_{h=1}^{n}{A_{kh}} = \\lambda_1 + \\sum_{i=1 \\land i\\neq k}^{n}{A_{ki}}$$\n",
    "\n",
    "Si hacemos un cambio de indices, vemos que de un lado nos queda solo el $kk$ y del otro $\\lambda_1$\n",
    "\n",
    "$$\\sum_{h=1}^{n}{A_{kh}} = \\lambda_1 + \\sum_{h=1 \\land h\\neq k}^{n}{A_{ki}}$$\n",
    "\n",
    "$$A_{kk} = \\lambda_1$$\n",
    "\n",
    "Luego, vemos que, como esta era una ecuacion genérica, esto vale para cualquier $k$. Como sabemos que la diagonal de la matriz de adyacencias $A$ es 0 (pues nunca un museo se conecta consigo mismo), concluimos que:\n",
    "\n",
    "$$\\lambda_1 = 0$$\n",
    "\n",
    "\n",
    "\n",
    "\n",
    "\n"
   ]
  },
  {
   "cell_type": "markdown",
   "metadata": {},
   "source": [
    "Veamos lo mismo para la matriz $R = A - P$, donde $P_{ij} = \\frac{k_i \\cdot k_j}{2E}$. \n",
    "En esta ecuacion, E es la cantidad total de aristas, es decir, $2E = \\sum_{i=1}^{n}{\\sum_{j=1}^{n}{A_{ij}}}$.\n",
    "Ademas, $k_i = K_{ii} = \\sum_{j=1}^{n}{A_{ij}}$\n",
    "\n",
    "Veamos entonces la demostracion de que $\\mathbb{1}$ es autovector de $R$, y con qué autovalor. Lo llamamos $\\lambda_2$.\n"
   ]
  },
  {
   "cell_type": "markdown",
   "metadata": {},
   "source": []
  },
  {
   "cell_type": "markdown",
   "metadata": {},
   "source": []
  },
  {
   "cell_type": "code",
   "execution_count": null,
   "metadata": {
    "vscode": {
     "languageId": "plaintext"
    }
   },
   "outputs": [],
   "source": []
  }
 ],
 "metadata": {
  "language_info": {
   "name": "python"
  }
 },
 "nbformat": 4,
 "nbformat_minor": 2
}
